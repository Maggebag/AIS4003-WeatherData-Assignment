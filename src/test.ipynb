{
 "cells": [
  {
   "cell_type": "code",
   "execution_count": 18,
   "id": "71f1df77",
   "metadata": {},
   "outputs": [],
   "source": [
    "from frost_client import *\n",
    "from data_handling import *"
   ]
  },
  {
   "cell_type": "code",
   "execution_count": 19,
   "id": "d35a65a3",
   "metadata": {},
   "outputs": [
    {
     "data": {
      "text/html": [
       "<div>\n",
       "<style scoped>\n",
       "    .dataframe tbody tr th:only-of-type {\n",
       "        vertical-align: middle;\n",
       "    }\n",
       "\n",
       "    .dataframe tbody tr th {\n",
       "        vertical-align: top;\n",
       "    }\n",
       "\n",
       "    .dataframe thead th {\n",
       "        text-align: right;\n",
       "    }\n",
       "</style>\n",
       "<table border=\"1\" class=\"dataframe\">\n",
       "  <thead>\n",
       "    <tr style=\"text-align: right;\">\n",
       "      <th></th>\n",
       "      <th>id</th>\n",
       "      <th>name</th>\n",
       "      <th>lon</th>\n",
       "      <th>lat</th>\n",
       "      <th>masl</th>\n",
       "      <th>municipality</th>\n",
       "      <th>county</th>\n",
       "      <th>country</th>\n",
       "    </tr>\n",
       "  </thead>\n",
       "  <tbody>\n",
       "    <tr>\n",
       "      <th>0</th>\n",
       "      <td>SN60990</td>\n",
       "      <td>VIGRA</td>\n",
       "      <td>6.115</td>\n",
       "      <td>62.5617</td>\n",
       "      <td>22</td>\n",
       "      <td>GISKE</td>\n",
       "      <td>MØRE OG ROMSDAL</td>\n",
       "      <td>Norge</td>\n",
       "    </tr>\n",
       "  </tbody>\n",
       "</table>\n",
       "</div>"
      ],
      "text/plain": [
       "        id   name    lon      lat  masl municipality           county country\n",
       "0  SN60990  VIGRA  6.115  62.5617    22        GISKE  MØRE OG ROMSDAL   Norge"
      ]
     },
     "execution_count": 19,
     "metadata": {},
     "output_type": "execute_result"
    }
   ],
   "source": [
    "search_station_by_name(\"Vigra\")"
   ]
  },
  {
   "cell_type": "code",
   "execution_count": 20,
   "id": "ef4dff31",
   "metadata": {},
   "outputs": [
    {
     "name": "stdout",
     "output_type": "stream",
     "text": [
      "                       time     source                        element  value  \\\n",
      "0 2013-01-01 00:00:00+00:00  SN60990:0           mean(wind_speed P1D)    8.3   \n",
      "1 2013-01-01 00:00:00+00:00  SN60990:0    max(wind_speed_of_gust P1D)   17.2   \n",
      "2 2013-01-01 00:00:00+00:00  SN60990:0            min(wind_speed P1D)    2.8   \n",
      "3 2013-01-01 00:00:00+00:00  SN60990:0            max(wind_speed P1D)   12.5   \n",
      "4 2013-01-01 00:00:00+00:00  SN60990:0  sum(precipitation_amount P1D)    6.4   \n",
      "\n",
      "  unit  \n",
      "0  m/s  \n",
      "1  m/s  \n",
      "2  m/s  \n",
      "3  m/s  \n",
      "4   mm  \n",
      "element                      time  max(air_temperature P1D)  \\\n",
      "0       2013-01-01 00:00:00+00:00                       8.0   \n",
      "1       2013-01-02 00:00:00+00:00                       5.9   \n",
      "2       2013-01-03 00:00:00+00:00                       8.6   \n",
      "3       2013-01-04 00:00:00+00:00                       8.2   \n",
      "4       2013-01-05 00:00:00+00:00                       8.4   \n",
      "\n",
      "element  max(wind_speed P1D)  max(wind_speed_of_gust P1D)  \\\n",
      "0                       12.5                         17.2   \n",
      "1                        5.3                         10.2   \n",
      "2                       13.4                         21.3   \n",
      "3                        9.7                         13.6   \n",
      "4                        6.4                         11.0   \n",
      "\n",
      "element  mean(air_temperature P1D)  mean(wind_speed P1D)  \\\n",
      "0                             5.25                   8.3   \n",
      "1                             4.95                   3.9   \n",
      "2                             6.55                   8.5   \n",
      "3                             7.00                   6.9   \n",
      "4                             7.20                   4.4   \n",
      "\n",
      "element  min(air_temperature P1D)  min(wind_speed P1D)  precipitation  \n",
      "0                            2.20                  2.8            6.4  \n",
      "1                            2.70                  2.2           13.7  \n",
      "2                            4.95                  6.0            5.5  \n",
      "3                            4.80                  3.1            5.3  \n",
      "4                            6.40                  1.5           11.4  \n"
     ]
    }
   ],
   "source": [
    "# Choose station, elements, time range\n",
    "station = \"SN60990\"  # Vigra\n",
    "elements = 'mean(wind_speed P1D), max(wind_speed_of_gust P1D), min(wind_speed P1D), max(wind_speed P1D), sum(precipitation_amount P1D), max(air_temperature P1D), min(air_temperature P1D), mean(air_temperature P1D)'\n",
    "span = \"2013-01-01/2025-09-19\"\n",
    "\n",
    "df_long = fetch_data_observations(station, elements, span)\n",
    "print(df_long.head())\n",
    "\n",
    "df_wide = pivot_table_elements(df_long)\n",
    "# Optional: rename the long precip column to something nicer\n",
    "df_wide = df_wide.rename(columns={\"sum(precipitation_amount P1D)\": \"precipitation\"})\n",
    "\n",
    "print(df_wide.head())\n"
   ]
  },
  {
   "cell_type": "code",
   "execution_count": 21,
   "id": "672d26eb",
   "metadata": {},
   "outputs": [
    {
     "name": "stdout",
     "output_type": "stream",
     "text": [
      "   year  events\n",
      "0  2013       1\n",
      "1  2015       1\n",
      "2  2016       2\n",
      "3  2019       1\n",
      "4  2020       1\n",
      "5  2023       1\n",
      "6  2024       2\n"
     ]
    }
   ],
   "source": [
    "events = hurricane_events(df_wide, wind_col='max(wind_speed_of_gust P1D)')\n",
    "print(events)"
   ]
  },
  {
   "cell_type": "code",
   "execution_count": null,
   "id": "d3202218",
   "metadata": {},
   "outputs": [],
   "source": []
  }
 ],
 "metadata": {
  "kernelspec": {
   "display_name": ".venv",
   "language": "python",
   "name": "python3"
  },
  "language_info": {
   "codemirror_mode": {
    "name": "ipython",
    "version": 3
   },
   "file_extension": ".py",
   "mimetype": "text/x-python",
   "name": "python",
   "nbconvert_exporter": "python",
   "pygments_lexer": "ipython3",
   "version": "3.11.9"
  }
 },
 "nbformat": 4,
 "nbformat_minor": 5
}
